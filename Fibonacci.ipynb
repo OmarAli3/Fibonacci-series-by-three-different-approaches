{
 "cells": [
  {
   "cell_type": "markdown",
   "metadata": {},
   "source": [
    "# Programming assignment #1"
   ]
  },
  {
   "cell_type": "markdown",
   "metadata": {},
   "source": [
    "\n",
    ">  **n**...: **Fibonacci(n)** <br>\n",
    "> `0` : `0` <br>\n",
    "> `1` : `1` <br>\n",
    "> `2` : `1` <br>\n",
    "> `3` : `2` <br>\n",
    "> `4` : `3` <br>"
   ]
  },
  {
   "cell_type": "markdown",
   "metadata": {},
   "source": [
    "### Recursive approach :"
   ]
  },
  {
   "cell_type": "code",
   "execution_count": 79,
   "metadata": {},
   "outputs": [],
   "source": [
    "def recFib(n):\n",
    "    if (n==0):\n",
    "        return 0\n",
    "    if(n<=2):\n",
    "        return 1\n",
    "    return recFib(n-1)+recFib(n-2)"
   ]
  },
  {
   "cell_type": "markdown",
   "metadata": {},
   "source": [
    "### DP topDown approach :"
   ]
  },
  {
   "cell_type": "code",
   "execution_count": 80,
   "metadata": {},
   "outputs": [],
   "source": [
    "memoize=[-1 for i in range(100)]\n",
    "def topdownFib(n,memoize):\n",
    "    if (n==0):\n",
    "        return 0\n",
    "    if(n<=2):\n",
    "        return 1\n",
    "    if(memoize[n]!=-1):\n",
    "        return memoize[n] \n",
    "    memoize[n]=topdownFib(n-1,memoize)+topdownFib(n-2,memoize)\n",
    "    return memoize[n]\n"
   ]
  },
  {
   "cell_type": "markdown",
   "metadata": {},
   "source": [
    "### DP bottomUp approach :"
   ]
  },
  {
   "cell_type": "code",
   "execution_count": 81,
   "metadata": {},
   "outputs": [],
   "source": [
    "def bottomUpFib(n):\n",
    "    a=0\n",
    "    b=1\n",
    "    for i in range(n):\n",
    "        temp=a\n",
    "        a=b\n",
    "        b=temp+b\n",
    "    return a"
   ]
  },
  {
   "cell_type": "markdown",
   "metadata": {},
   "source": [
    "<hr>"
   ]
  },
  {
   "cell_type": "markdown",
   "metadata": {},
   "source": [
    "### Testing code :"
   ]
  },
  {
   "cell_type": "markdown",
   "metadata": {},
   "source": [
    "> I removed the last 2 test cases for the recursive approach because it took me more than 1 hour and didn't finish"
   ]
  },
  {
   "cell_type": "code",
   "execution_count": 82,
   "metadata": {},
   "outputs": [
    {
     "name": "stdout",
     "output_type": "stream",
     "text": [
      "3 21 144 987 6765 46368 317811 2178309 14930352 102334155 4807526976 10610209857723 \n",
      "3 21 144 987 6765 46368 317811 2178309 14930352 102334155 4807526976 10610209857723 \n",
      "3 21 144 987 6765 46368 317811 2178309 14930352 102334155 "
     ]
    }
   ],
   "source": [
    "testCases= [4, 8, 12, 16, 20, 24, 28, 32, 36, 40, 48, 64]\n",
    "recTestCases= [4, 8, 12, 16, 20, 24, 28, 32, 36, 40]\n",
    "\n",
    "for n in testCases:\n",
    "    print(bottomUpFib(n),end=\" \")\n",
    "print('')\n",
    "for n in testCases:\n",
    "    mem=memoize.copy()\n",
    "    print(topdownFib(n,mem),end=\" \")\n",
    "print('')\n",
    "for n in recTestCases:\n",
    "        print(recFib(n),end=\" \")\n",
    "    "
   ]
  },
  {
   "cell_type": "markdown",
   "metadata": {},
   "source": [
    "### Measuring running time :"
   ]
  },
  {
   "cell_type": "code",
   "execution_count": 83,
   "metadata": {},
   "outputs": [],
   "source": [
    "import time\n",
    "import pandas as pd\n",
    "\n",
    "def currentTime():    #Current time in microseconds\n",
    "    microseconds = int(round(time.time() * 10**6))\n",
    "    return microseconds\n",
    "\n",
    "def calcElapsedTime(Fib,testCases,topDown=False):\n",
    "    funcTime=[]\n",
    "    for n in testCases:\n",
    "        if (topDown==True): #initialize memoization list if the function is topDown\n",
    "            mem=memoize.copy()\n",
    "        start=currentTime()\n",
    "        if (topDown==True):\n",
    "            Fib(n,mem)\n",
    "        else :\n",
    "            Fib(n)\n",
    "        end=currentTime()\n",
    "        total=end-start\n",
    "        funcTime.append(total)\n",
    "    return funcTime\n",
    "        "
   ]
  },
  {
   "cell_type": "code",
   "execution_count": 94,
   "metadata": {},
   "outputs": [
    {
     "data": {
      "text/plain": [
       "[8, 3, 4, 4, 5, 5, 6, 7, 7, 8, 9, 13]"
      ]
     },
     "execution_count": 94,
     "metadata": {},
     "output_type": "execute_result"
    }
   ],
   "source": [
    "bottomUpTime=calcElapsedTime(bottomUpFib,testCases)\n",
    "bottomUpTime"
   ]
  },
  {
   "cell_type": "code",
   "execution_count": 93,
   "metadata": {},
   "outputs": [
    {
     "data": {
      "text/plain": [
       "[6, 4, 4, 5, 7, 8, 9, 10, 12, 13, 16, 21]"
      ]
     },
     "execution_count": 93,
     "metadata": {},
     "output_type": "execute_result"
    }
   ],
   "source": [
    "topdownTime=calcElapsedTime(topdownFib,testCases,True)\n",
    "topdownTime"
   ]
  },
  {
   "cell_type": "code",
   "execution_count": 86,
   "metadata": {},
   "outputs": [
    {
     "data": {
      "text/plain": [
       "[7, 8, 52, 376, 2590, 17807, 107555, 513136, 3504776, 22083086, None, None]"
      ]
     },
     "execution_count": 86,
     "metadata": {},
     "output_type": "execute_result"
    }
   ],
   "source": [
    "recursiveTime=calcElapsedTime(recFib,recTestCases)\n",
    "recursiveTime.extend([None,None])\n",
    "recursiveTime"
   ]
  },
  {
   "cell_type": "code",
   "execution_count": 95,
   "metadata": {},
   "outputs": [
    {
     "name": "stdout",
     "output_type": "stream",
     "text": [
      " testCase  bottomUpTime  topdownTime  recursiveTime\n",
      "        4             8            6            7.0\n",
      "        8             3            4            8.0\n",
      "       12             4            4           52.0\n",
      "       16             4            5          376.0\n",
      "       20             5            7         2590.0\n",
      "       24             5            8        17807.0\n",
      "       28             6            9       107555.0\n",
      "       32             7           10       513136.0\n",
      "       36             7           12      3504776.0\n",
      "       40             8           13     22083086.0\n",
      "       48             9           16            NaN\n",
      "       64            13           21            NaN\n"
     ]
    }
   ],
   "source": [
    "df = pd.DataFrame({\"testCase\":testCases,\"bottomUpTime\":bottomUpTime,\"topdownTime\":topdownTime,\"recursiveTime\":recursiveTime})\n",
    "print (df.to_string(index=False))"
   ]
  },
  {
   "cell_type": "markdown",
   "metadata": {},
   "source": [
    "<hr>"
   ]
  },
  {
   "cell_type": "markdown",
   "metadata": {},
   "source": [
    "### Ploting Excution time Curve :"
   ]
  },
  {
   "cell_type": "code",
   "execution_count": 96,
   "metadata": {},
   "outputs": [],
   "source": [
    "import matplotlib.pyplot as plt\n",
    "import matplotlib.ticker as ticker\n",
    "def plotGraph(x,y,Label,title,xStep,yStep):    \n",
    "    fig,Graph = plt.subplots(1,1)\n",
    "    Graph.plot(x,y,label=Label,marker='o')\n",
    "    plt.xlabel('testCase')\n",
    "    plt.ylabel('Time(uS)')\n",
    "    \n",
    "    plt.title(title)\n",
    "    Graph.legend()\n",
    "    Graph.xaxis.set_major_locator(ticker.MultipleLocator(xStep))\n",
    "    Graph.yaxis.set_major_locator(ticker.MultipleLocator(yStep))\n",
    "\n"
   ]
  },
  {
   "cell_type": "code",
   "execution_count": 97,
   "metadata": {},
   "outputs": [
    {
     "data": {
      "image/png": "[encoded data removed]",
      "text/plain": [
       "<Figure size 432x288 with 1 Axes>"
      ]
     },
     "metadata": {
      "needs_background": "light"
     },
     "output_type": "display_data"
    }
   ],
   "source": [
    "plotGraph(testCases,bottomUpTime,'bottomUp',\"bottomUp Excution Time graph\",4,3)\n"
   ]
  },
  {
   "cell_type": "code",
   "execution_count": 98,
   "metadata": {},
   "outputs": [
    {
     "data": {
      "image/png": "[encoded data removed]",
      "text/plain": [
       "<Figure size 432x288 with 1 Axes>"
      ]
     },
     "metadata": {
      "needs_background": "light"
     },
     "output_type": "display_data"
    }
   ],
   "source": [
    "plotGraph(testCases,topdownTime,'topDown',\"topDown Excution Time graph\",4,5)"
   ]
  },
  {
   "cell_type": "code",
   "execution_count": 99,
   "metadata": {},
   "outputs": [
    {
     "data": {
      "image/png": "[encoded data removed]",
      "text/plain": [
       "<Figure size 432x288 with 1 Axes>"
      ]
     },
     "metadata": {
      "needs_background": "light"
     },
     "output_type": "display_data"
    }
   ],
   "source": [
    "plotGraph(recTestCases,recursiveTime[:-2],'recursive',\"recursive Excution Time graph\",4,2000000)"
   ]
  }
 ],
 "metadata": {
  "kernelspec": {
   "display_name": "Python 3",
   "language": "python",
   "name": "python3"
  },
  "language_info": {
   "codemirror_mode": {
    "name": "ipython",
    "version": 3
   },
   "file_extension": ".py",
   "mimetype": "text/x-python",
   "name": "python",
   "nbconvert_exporter": "python",
   "pygments_lexer": "ipython3",
   "version": "3.6.9"
  }
 },
 "nbformat": 4,
 "nbformat_minor": 2
}
